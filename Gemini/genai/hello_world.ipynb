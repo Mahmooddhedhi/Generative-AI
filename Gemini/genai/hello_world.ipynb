{
 "cells": [
  {
   "cell_type": "code",
   "execution_count": 1,
   "id": "1f8d2480",
   "metadata": {},
   "outputs": [
    {
     "name": "stdout",
     "output_type": "stream",
     "text": [
      "Defaulting to user installation because normal site-packages is not writeable\n",
      "Requirement already satisfied: google-generativeai in c:\\users\\dell\\appdata\\roaming\\python\\python39\\site-packages (0.3.1)\n",
      "Requirement already satisfied: tqdm in c:\\programdata\\anaconda3\\lib\\site-packages (from google-generativeai) (4.64.1)\n",
      "Requirement already satisfied: protobuf in c:\\users\\dell\\appdata\\roaming\\python\\python39\\site-packages (from google-generativeai) (4.23.3)\n",
      "Requirement already satisfied: google-ai-generativelanguage==0.4.0 in c:\\users\\dell\\appdata\\roaming\\python\\python39\\site-packages (from google-generativeai) (0.4.0)\n",
      "Requirement already satisfied: google-api-core in c:\\users\\dell\\appdata\\roaming\\python\\python39\\site-packages (from google-generativeai) (2.15.0)\n",
      "Requirement already satisfied: google-auth in c:\\users\\dell\\appdata\\roaming\\python\\python39\\site-packages (from google-generativeai) (2.23.4)\n",
      "Requirement already satisfied: proto-plus<2.0.0dev,>=1.22.3 in c:\\users\\dell\\appdata\\roaming\\python\\python39\\site-packages (from google-ai-generativelanguage==0.4.0->google-generativeai) (1.23.0)\n",
      "Requirement already satisfied: requests<3.0.0.dev0,>=2.18.0 in c:\\programdata\\anaconda3\\lib\\site-packages (from google-api-core->google-generativeai) (2.28.1)\n",
      "Requirement already satisfied: googleapis-common-protos<2.0.dev0,>=1.56.2 in c:\\users\\dell\\appdata\\roaming\\python\\python39\\site-packages (from google-api-core->google-generativeai) (1.62.0)\n",
      "Requirement already satisfied: cachetools<6.0,>=2.0.0 in c:\\users\\dell\\appdata\\roaming\\python\\python39\\site-packages (from google-auth->google-generativeai) (5.3.1)\n",
      "Requirement already satisfied: rsa<5,>=3.1.4 in c:\\users\\dell\\appdata\\roaming\\python\\python39\\site-packages (from google-auth->google-generativeai) (4.9)\n",
      "Requirement already satisfied: pyasn1-modules>=0.2.1 in c:\\programdata\\anaconda3\\lib\\site-packages (from google-auth->google-generativeai) (0.2.8)\n",
      "Requirement already satisfied: colorama in c:\\programdata\\anaconda3\\lib\\site-packages (from tqdm->google-generativeai) (0.4.5)\n",
      "Requirement already satisfied: grpcio-status<2.0.dev0,>=1.33.2 in c:\\users\\dell\\appdata\\roaming\\python\\python39\\site-packages (from google-api-core->google-generativeai) (1.60.0)\n",
      "Requirement already satisfied: grpcio<2.0dev,>=1.33.2 in c:\\users\\dell\\appdata\\roaming\\python\\python39\\site-packages (from google-api-core->google-generativeai) (1.60.0)\n",
      "Requirement already satisfied: pyasn1<0.5.0,>=0.4.6 in c:\\programdata\\anaconda3\\lib\\site-packages (from pyasn1-modules>=0.2.1->google-auth->google-generativeai) (0.4.8)\n",
      "Requirement already satisfied: urllib3<1.27,>=1.21.1 in c:\\programdata\\anaconda3\\lib\\site-packages (from requests<3.0.0.dev0,>=2.18.0->google-api-core->google-generativeai) (1.26.11)\n",
      "Requirement already satisfied: charset-normalizer<3,>=2 in c:\\programdata\\anaconda3\\lib\\site-packages (from requests<3.0.0.dev0,>=2.18.0->google-api-core->google-generativeai) (2.0.4)\n",
      "Requirement already satisfied: certifi>=2017.4.17 in c:\\programdata\\anaconda3\\lib\\site-packages (from requests<3.0.0.dev0,>=2.18.0->google-api-core->google-generativeai) (2022.9.14)\n",
      "Requirement already satisfied: idna<4,>=2.5 in c:\\users\\dell\\appdata\\roaming\\python\\python39\\site-packages (from requests<3.0.0.dev0,>=2.18.0->google-api-core->google-generativeai) (2.10)\n",
      "Note: you may need to restart the kernel to use updated packages.\n"
     ]
    },
    {
     "name": "stderr",
     "output_type": "stream",
     "text": [
      "WARNING: Ignoring invalid distribution -umpy (c:\\users\\dell\\appdata\\roaming\\python\\python39\\site-packages)\n",
      "WARNING: Ignoring invalid distribution -umpy (c:\\users\\dell\\appdata\\roaming\\python\\python39\\site-packages)\n",
      "WARNING: Ignoring invalid distribution -umpy (c:\\users\\dell\\appdata\\roaming\\python\\python39\\site-packages)\n",
      "WARNING: Ignoring invalid distribution -umpy (c:\\users\\dell\\appdata\\roaming\\python\\python39\\site-packages)\n",
      "WARNING: Ignoring invalid distribution -umpy (c:\\users\\dell\\appdata\\roaming\\python\\python39\\site-packages)\n",
      "WARNING: Ignoring invalid distribution -umpy (c:\\users\\dell\\appdata\\roaming\\python\\python39\\site-packages)\n"
     ]
    }
   ],
   "source": [
    "pip install google-generativeai"
   ]
  },
  {
   "cell_type": "code",
   "execution_count": 2,
   "id": "227c2165",
   "metadata": {},
   "outputs": [],
   "source": [
    "import google.generativeai as genai"
   ]
  },
  {
   "cell_type": "code",
   "execution_count": 3,
   "id": "8f8898a2",
   "metadata": {},
   "outputs": [],
   "source": [
    "genai.configure(api_key=\"YOUR_API_KEY\")"
   ]
  },
  {
   "cell_type": "code",
   "execution_count": 4,
   "id": "fc14705c",
   "metadata": {},
   "outputs": [],
   "source": [
    "generation_config = {\n",
    "  \"temperature\": 0.9,\n",
    "  \"top_p\": 1,\n",
    "  \"top_k\": 1,\n",
    "  \"max_output_tokens\": 2048,\n",
    "}"
   ]
  },
  {
   "cell_type": "code",
   "execution_count": 5,
   "id": "0def05c6",
   "metadata": {},
   "outputs": [],
   "source": [
    "safety_settings = [\n",
    "  {\n",
    "    \"category\": \"HARM_CATEGORY_HARASSMENT\",\n",
    "    \"threshold\": \"BLOCK_MEDIUM_AND_ABOVE\"\n",
    "  },\n",
    "  {\n",
    "    \"category\": \"HARM_CATEGORY_HATE_SPEECH\",\n",
    "    \"threshold\": \"BLOCK_MEDIUM_AND_ABOVE\"\n",
    "  },\n",
    "  {\n",
    "    \"category\": \"HARM_CATEGORY_SEXUALLY_EXPLICIT\",\n",
    "    \"threshold\": \"BLOCK_MEDIUM_AND_ABOVE\"\n",
    "  },\n",
    "  {\n",
    "    \"category\": \"HARM_CATEGORY_DANGEROUS_CONTENT\",\n",
    "    \"threshold\": \"BLOCK_MEDIUM_AND_ABOVE\"\n",
    "  }\n",
    "]"
   ]
  },
  {
   "cell_type": "code",
   "execution_count": 6,
   "id": "dd25a54b",
   "metadata": {},
   "outputs": [],
   "source": [
    "model = genai.GenerativeModel(model_name=\"gemini-pro\",\n",
    "                              generation_config=generation_config,\n",
    "                              safety_settings=safety_settings)\n"
   ]
  },
  {
   "cell_type": "code",
   "execution_count": 7,
   "id": "c67f1874",
   "metadata": {},
   "outputs": [],
   "source": [
    "prompt_parts = [\n",
    "  \"who is quaid-e-azam?\",\n",
    "]"
   ]
  },
  {
   "cell_type": "code",
   "execution_count": 8,
   "id": "b9f49cbf",
   "metadata": {},
   "outputs": [
    {
     "name": "stdout",
     "output_type": "stream",
     "text": [
      "Quaid-e-Azam, also known as Muhammad Ali Jinnah, was a prominent leader of the All-India Muslim League and the founder of Pakistan. He played a crucial role in the Pakistan Movement and is widely regarded as the father of the nation.\n",
      "\n",
      "Here are some key details about Quaid-e-Azam:\n",
      "\n",
      "1. Early Life and Education:\n",
      "   - Born on December 25, 1876, in Karachi, British India.\n",
      "   - Received his early education in Karachi and Bombay (now Mumbai).\n",
      "   - Studied law in England and was called to the bar in 1896.\n",
      "\n",
      "2. Political Career:\n",
      "   - Joined the Indian National Congress in 1906.\n",
      "   - Served as a member of the Imperial Legislative Council from 1909 to 1912.\n",
      "   - Became a leading figure in the Muslim League in 1913.\n",
      "\n",
      "3. Pakistan Movement:\n",
      "   - Advocated for separate electorates for Muslims and the protection of Muslim rights within a united India.\n",
      "   - Proposed the Two-Nation Theory, which emphasized the distinct identity and interests of Muslims in India.\n",
      "   - Led the All-India Muslim League in its demand for a separate Muslim homeland.\n",
      "\n",
      "4. Lahore Resolution:\n",
      "   - Presented the Lahore Resolution in 1940, which called for the creation of \"independent states\" in Muslim-majority areas of India.\n",
      "\n",
      "5. Independence and Partition:\n",
      "   - Served as the first Governor-General of Pakistan after the independence of the country in 1947.\n",
      "   - Played a key role in the negotiations with the British government and the Indian National Congress to achieve Pakistan's independence.\n",
      "\n",
      "6. Legacy:\n",
      "   - Widely respected for his leadership, vision, and dedication to the cause of Pakistan's independence.\n",
      "   - Known for his diplomatic skills, political acumen, and commitment to constitutionalism.\n",
      "   - His birthday, December 25, is celebrated as a national holiday in Pakistan, known as Quaid-e-Azam Day.\n",
      "\n",
      "7. Title and Honorifics:\n",
      "   - Commonly referred to as Quaid-e-Azam, which means \"Great Leader\" in Urdu and Persian.\n",
      "   - Also known as Baba-e-Qaum (Father of the Nation) and Quaid-i-Millat (Leader of the Nation).\n",
      "\n",
      "Muhammad Ali Jinnah's leadership and efforts during the Pakistan Movement were instrumental in the creation of Pakistan as an independent state. His vision and determination continue to inspire and guide the people of Pakistan.\n"
     ]
    }
   ],
   "source": [
    "response = model.generate_content(prompt_parts)\n",
    "print(response.text)"
   ]
  },
  {
   "cell_type": "code",
   "execution_count": null,
   "id": "ac8e900e",
   "metadata": {},
   "outputs": [],
   "source": []
  }
 ],
 "metadata": {
  "kernelspec": {
   "display_name": "Python 3 (ipykernel)",
   "language": "python",
   "name": "python3"
  },
  "language_info": {
   "codemirror_mode": {
    "name": "ipython",
    "version": 3
   },
   "file_extension": ".py",
   "mimetype": "text/x-python",
   "name": "python",
   "nbconvert_exporter": "python",
   "pygments_lexer": "ipython3",
   "version": "3.9.13"
  }
 },
 "nbformat": 4,
 "nbformat_minor": 5
}
