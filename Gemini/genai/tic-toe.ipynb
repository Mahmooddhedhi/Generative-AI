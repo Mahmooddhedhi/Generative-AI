{
 "cells": [
  {
   "cell_type": "code",
   "execution_count": 1,
   "id": "d86778fa",
   "metadata": {},
   "outputs": [
    {
     "name": "stdout",
     "output_type": "stream",
     "text": [
      "Defaulting to user installation because normal site-packages is not writeableNote: you may need to restart the kernel to use updated packages.\n",
      "\n",
      "Requirement already satisfied: google-generativeai in c:\\users\\dell\\appdata\\roaming\\python\\python39\\site-packages (0.3.1)\n",
      "Requirement already satisfied: protobuf in c:\\users\\dell\\appdata\\roaming\\python\\python39\\site-packages (from google-generativeai) (4.23.3)\n",
      "Requirement already satisfied: google-api-core in c:\\users\\dell\\appdata\\roaming\\python\\python39\\site-packages (from google-generativeai) (2.15.0)\n",
      "Requirement already satisfied: google-auth in c:\\users\\dell\\appdata\\roaming\\python\\python39\\site-packages (from google-generativeai) (2.23.4)\n",
      "Requirement already satisfied: tqdm in c:\\programdata\\anaconda3\\lib\\site-packages (from google-generativeai) (4.64.1)\n",
      "Requirement already satisfied: google-ai-generativelanguage==0.4.0 in c:\\users\\dell\\appdata\\roaming\\python\\python39\\site-packages (from google-generativeai) (0.4.0)\n",
      "Requirement already satisfied: proto-plus<2.0.0dev,>=1.22.3 in c:\\users\\dell\\appdata\\roaming\\python\\python39\\site-packages (from google-ai-generativelanguage==0.4.0->google-generativeai) (1.23.0)\n",
      "Requirement already satisfied: requests<3.0.0.dev0,>=2.18.0 in c:\\programdata\\anaconda3\\lib\\site-packages (from google-api-core->google-generativeai) (2.28.1)\n",
      "Requirement already satisfied: googleapis-common-protos<2.0.dev0,>=1.56.2 in c:\\users\\dell\\appdata\\roaming\\python\\python39\\site-packages (from google-api-core->google-generativeai) (1.62.0)\n",
      "Requirement already satisfied: pyasn1-modules>=0.2.1 in c:\\programdata\\anaconda3\\lib\\site-packages (from google-auth->google-generativeai) (0.2.8)\n",
      "Requirement already satisfied: cachetools<6.0,>=2.0.0 in c:\\users\\dell\\appdata\\roaming\\python\\python39\\site-packages (from google-auth->google-generativeai) (5.3.1)\n",
      "Requirement already satisfied: rsa<5,>=3.1.4 in c:\\users\\dell\\appdata\\roaming\\python\\python39\\site-packages (from google-auth->google-generativeai) (4.9)\n",
      "Requirement already satisfied: colorama in c:\\programdata\\anaconda3\\lib\\site-packages (from tqdm->google-generativeai) (0.4.5)\n",
      "Requirement already satisfied: grpcio<2.0dev,>=1.33.2 in c:\\users\\dell\\appdata\\roaming\\python\\python39\\site-packages (from google-api-core->google-generativeai) (1.60.0)\n",
      "Requirement already satisfied: grpcio-status<2.0.dev0,>=1.33.2 in c:\\users\\dell\\appdata\\roaming\\python\\python39\\site-packages (from google-api-core->google-generativeai) (1.60.0)\n",
      "Requirement already satisfied: pyasn1<0.5.0,>=0.4.6 in c:\\programdata\\anaconda3\\lib\\site-packages (from pyasn1-modules>=0.2.1->google-auth->google-generativeai) (0.4.8)\n",
      "Requirement already satisfied: urllib3<1.27,>=1.21.1 in c:\\programdata\\anaconda3\\lib\\site-packages (from requests<3.0.0.dev0,>=2.18.0->google-api-core->google-generativeai) (1.26.11)\n",
      "Requirement already satisfied: charset-normalizer<3,>=2 in c:\\programdata\\anaconda3\\lib\\site-packages (from requests<3.0.0.dev0,>=2.18.0->google-api-core->google-generativeai) (2.0.4)\n",
      "Requirement already satisfied: idna<4,>=2.5 in c:\\users\\dell\\appdata\\roaming\\python\\python39\\site-packages (from requests<3.0.0.dev0,>=2.18.0->google-api-core->google-generativeai) (2.10)\n",
      "Requirement already satisfied: certifi>=2017.4.17 in c:\\programdata\\anaconda3\\lib\\site-packages (from requests<3.0.0.dev0,>=2.18.0->google-api-core->google-generativeai) (2022.9.14)\n"
     ]
    },
    {
     "name": "stderr",
     "output_type": "stream",
     "text": [
      "WARNING: Ignoring invalid distribution -umpy (c:\\users\\dell\\appdata\\roaming\\python\\python39\\site-packages)\n",
      "WARNING: Ignoring invalid distribution -umpy (c:\\users\\dell\\appdata\\roaming\\python\\python39\\site-packages)\n",
      "WARNING: Ignoring invalid distribution -umpy (c:\\users\\dell\\appdata\\roaming\\python\\python39\\site-packages)\n",
      "WARNING: Ignoring invalid distribution -umpy (c:\\users\\dell\\appdata\\roaming\\python\\python39\\site-packages)\n",
      "WARNING: Ignoring invalid distribution -umpy (c:\\users\\dell\\appdata\\roaming\\python\\python39\\site-packages)\n",
      "WARNING: Ignoring invalid distribution -umpy (c:\\users\\dell\\appdata\\roaming\\python\\python39\\site-packages)\n"
     ]
    }
   ],
   "source": [
    "pip install google-generativeai"
   ]
  },
  {
   "cell_type": "code",
   "execution_count": 2,
   "id": "5e3097da",
   "metadata": {},
   "outputs": [],
   "source": [
    "import google.generativeai as genai"
   ]
  },
  {
   "cell_type": "code",
   "execution_count": 3,
   "id": "ff707ed3",
   "metadata": {},
   "outputs": [],
   "source": [
    "genai.configure(api_key=\"YOUR_API_KEY\")"
   ]
  },
  {
   "cell_type": "code",
   "execution_count": 4,
   "id": "7f4d3470",
   "metadata": {},
   "outputs": [],
   "source": [
    "# Set up the model\n",
    "generation_config = {\n",
    "  \"temperature\": 0.9,\n",
    "  \"top_p\": 1,\n",
    "  \"top_k\": 1,\n",
    "  \"max_output_tokens\": 2048,\n",
    "}"
   ]
  },
  {
   "cell_type": "code",
   "execution_count": 5,
   "id": "8ebcbf8d",
   "metadata": {},
   "outputs": [],
   "source": [
    "safety_settings = [\n",
    "  {\n",
    "    \"category\": \"HARM_CATEGORY_HARASSMENT\",\n",
    "    \"threshold\": \"BLOCK_MEDIUM_AND_ABOVE\"\n",
    "  },\n",
    "  {\n",
    "    \"category\": \"HARM_CATEGORY_HATE_SPEECH\",\n",
    "    \"threshold\": \"BLOCK_MEDIUM_AND_ABOVE\"\n",
    "  },\n",
    "  {\n",
    "    \"category\": \"HARM_CATEGORY_SEXUALLY_EXPLICIT\",\n",
    "    \"threshold\": \"BLOCK_MEDIUM_AND_ABOVE\"\n",
    "  },\n",
    "  {\n",
    "    \"category\": \"HARM_CATEGORY_DANGEROUS_CONTENT\",\n",
    "    \"threshold\": \"BLOCK_MEDIUM_AND_ABOVE\"\n",
    "  }\n",
    "]"
   ]
  },
  {
   "cell_type": "code",
   "execution_count": 6,
   "id": "9bca8d1d",
   "metadata": {},
   "outputs": [],
   "source": [
    "model = genai.GenerativeModel(model_name=\"gemini-pro\",\n",
    "                              generation_config=generation_config,\n",
    "                              safety_settings=safety_settings)"
   ]
  },
  {
   "cell_type": "code",
   "execution_count": 8,
   "id": "a912e678",
   "metadata": {},
   "outputs": [],
   "source": [
    "prompt_parts = [\n",
    "  \"can you make tic toe game in python for me\",\n",
    "]\n"
   ]
  },
  {
   "cell_type": "code",
   "execution_count": 9,
   "id": "ddbae130",
   "metadata": {},
   "outputs": [
    {
     "name": "stdout",
     "output_type": "stream",
     "text": [
      "```python\n",
      "import numpy as np\n",
      "\n",
      "class TicTacToe:\n",
      "    def __init__(self):\n",
      "        self.board = np.zeros((3, 3), dtype=int)\n",
      "        self.player = 1  # 1 for X, -1 for O\n",
      "        self.winner = None\n",
      "\n",
      "    def make_move(self, row, col):\n",
      "        if self.board[row, col] != 0:\n",
      "            raise ValueError(\"Invalid move: position already occupied.\")\n",
      "\n",
      "        self.board[row, col] = self.player\n",
      "        self.check_winner()\n",
      "        self.player *= -1\n",
      "\n",
      "    def check_winner(self):\n",
      "        # Check rows\n",
      "        for i in range(3):\n",
      "            if np.all(self.board[i, :] == self.player):\n",
      "                self.winner = self.player\n",
      "\n",
      "        # Check columns\n",
      "        for j in range(3):\n",
      "            if np.all(self.board[:, j] == self.player):\n",
      "                self.winner = self.player\n",
      "\n",
      "        # Check diagonals\n",
      "        if np.all(np.diag(self.board) == self.player):\n",
      "            self.winner = self.player\n",
      "        if np.all(np.diag(np.fliplr(self.board)) == self.player):\n",
      "            self.winner = self.player\n",
      "\n",
      "    def print_board(self):\n",
      "        for row in self.board:\n",
      "            for col in row:\n",
      "                if col == 1:\n",
      "                    print(\"X\", end=\" \")\n",
      "                elif col == -1:\n",
      "                    print(\"O\", end=\" \")\n",
      "                else:\n",
      "                    print(\"-\", end=\" \")\n",
      "            print()\n",
      "\n",
      "    def is_game_over(self):\n",
      "        return self.winner is not None or np.all(self.board != 0)\n",
      "\n",
      "    def get_winner(self):\n",
      "        return self.winner\n",
      "\n",
      "def main():\n",
      "    game = TicTacToe()\n",
      "    while not game.is_game_over():\n",
      "        # Get player move\n",
      "        try:\n",
      "            row, col = map(int, input(\"Enter your move (row, col): \").split())\n",
      "        except ValueError:\n",
      "            print(\"Invalid input. Please enter two integers separated by a space.\")\n",
      "            continue\n",
      "\n",
      "        # Make the move\n",
      "        try:\n",
      "            game.make_move(row, col)\n",
      "        except ValueError:\n",
      "            print(\"Invalid move. Please try again.\")\n",
      "            continue\n",
      "\n",
      "        # Print the board\n",
      "        game.print_board()\n",
      "\n",
      "    # Check the winner\n",
      "    winner = game.get_winner()\n",
      "    if winner is None:\n",
      "        print(\"The game ended in a tie.\")\n",
      "    else:\n",
      "        print(f\"Player {winner} wins!\")\n",
      "\n",
      "if __name__ == \"__main__\":\n",
      "    main()\n",
      "```\n"
     ]
    }
   ],
   "source": [
    "response = model.generate_content(prompt_parts)\n",
    "print(response.text)"
   ]
  },
  {
   "cell_type": "code",
   "execution_count": null,
   "id": "0858ea8f",
   "metadata": {},
   "outputs": [],
   "source": []
  }
 ],
 "metadata": {
  "kernelspec": {
   "display_name": "Python 3 (ipykernel)",
   "language": "python",
   "name": "python3"
  },
  "language_info": {
   "codemirror_mode": {
    "name": "ipython",
    "version": 3
   },
   "file_extension": ".py",
   "mimetype": "text/x-python",
   "name": "python",
   "nbconvert_exporter": "python",
   "pygments_lexer": "ipython3",
   "version": "3.9.13"
  }
 },
 "nbformat": 4,
 "nbformat_minor": 5
}
